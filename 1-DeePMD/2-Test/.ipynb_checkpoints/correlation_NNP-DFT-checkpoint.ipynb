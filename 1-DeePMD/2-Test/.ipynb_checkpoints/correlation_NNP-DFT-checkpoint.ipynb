{
 "cells": [
  {
   "cell_type": "code",
   "execution_count": null,
   "metadata": {},
   "outputs": [],
   "source": [
    "import dpdata\n",
    "import numpy as np\n",
    "from deepmd.infer import DeepPot\n",
    "import matplotlib.pyplot as plt "
   ]
  },
  {
   "cell_type": "code",
   "execution_count": null,
   "metadata": {},
   "outputs": [],
   "source": [
    "dp_short = DeepPot('../1-Short_training/frozen_model_compressed.pb')"
   ]
  },
  {
   "cell_type": "markdown",
   "metadata": {},
   "source": [
    "With quick model trained by the user"
   ]
  },
  {
   "cell_type": "code",
   "execution_count": null,
   "metadata": {},
   "outputs": [],
   "source": [
    "#system = dpdata.LabeledSystem('../1-Short_training/TrainingData/ice-and-liquid', fmt = 'deepmd/raw')\n",
    "#e, f, v = dp_short.eval(system['coords'], system['cells'], system['atom_types'])\n",
    "#energy_model = e.reshape([-1]) \n",
    "#energy_dft=np.genfromtxt(\"../1-Short_training/TrainingData/ice-and-liquid/energy.raw\")\n",
    "#number_of_molecules=96\n",
    "#plt.scatter(energy_model/number_of_molecules,energy_dft/number_of_molecules)\n",
    "#\n",
    "system = dpdata.LabeledSystem('../1-Short_training/TrainingData/liquid-water-1', fmt = 'deepmd/raw')\n",
    "e, f, v = dp_short.eval(system['coords'], system['cells'], system['atom_types'])\n",
    "energy_model = e.reshape([-1]) \n",
    "energy_dft=np.genfromtxt(\"../1-Short_training/TrainingData/liquid-water-1/energy.raw\")\n",
    "number_of_molecules=64\n",
    "plt.scatter(energy_model/number_of_molecules,energy_dft/number_of_molecules)\n",
    "#\n",
    "#system = dpdata.LabeledSystem('../1-Short_training/TrainingData/liquid-water-2', fmt = 'deepmd/raw')\n",
    "#e, f, v = dp_short.eval(system['coords'], system['cells'], system['atom_types'])\n",
    "#energy_model = e.reshape([-1]) \n",
    "#energy_dft=np.genfromtxt(\"../1-Short_training/TrainingData/liquid-water-2/energy.raw\")\n",
    "#number_of_molecules=288\n",
    "#plt.scatter(energy_model/number_of_molecules,energy_dft/number_of_molecules)\n",
    "#\n",
    "plt.xlabel(\"E NNP / molecule [eV]\")\n",
    "plt.ylabel(\"E DFT / molecule [eV]\")\n",
    "\n",
    "plt.show()"
   ]
  }
 ],
 "metadata": {
  "kernelspec": {
   "display_name": "Python 3",
   "language": "python",
   "name": "python3"
  },
  "language_info": {
   "codemirror_mode": {
    "name": "ipython",
    "version": 3
   },
   "file_extension": ".py",
   "mimetype": "text/x-python",
   "name": "python",
   "nbconvert_exporter": "python",
   "pygments_lexer": "ipython3",
   "version": "3.6.7"
  }
 },
 "nbformat": 4,
 "nbformat_minor": 5
}
