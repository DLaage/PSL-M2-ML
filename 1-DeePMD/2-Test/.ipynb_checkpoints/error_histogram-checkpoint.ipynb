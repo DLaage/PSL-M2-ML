{
 "cells": [
  {
   "cell_type": "code",
   "execution_count": null,
   "metadata": {},
   "outputs": [],
   "source": [
    "import dpdata\n",
    "import numpy as np\n",
    "from deepmd.infer import DeepPot\n",
    "import matplotlib.pyplot as plt "
   ]
  },
  {
   "cell_type": "code",
   "execution_count": null,
   "metadata": {},
   "outputs": [],
   "source": [
    "dp_short = DeepPot('../1-Short_training/frozen_model.pb')"
   ]
  },
  {
   "cell_type": "markdown",
   "metadata": {},
   "source": [
    "Error histogram"
   ]
  },
  {
   "cell_type": "code",
   "execution_count": null,
   "metadata": {},
   "outputs": [],
   "source": [
    "system = dpdata.LabeledSystem('../1-Short_training/TrainingData/liquid-water-1', fmt = 'deepmd/raw')\n",
    "e, f, v = dp_short.eval(system['coords'], system['cells'], system['atom_types'])\n",
    "energy_model = e.reshape([-1]) \n",
    "energy_dft=np.genfromtxt(\"../1-Short_training/TrainingData/liquid-water-1/energy.raw\")\n",
    "number_of_molecules=64\n",
    "plt.hist((energy_model-energy_dft)/number_of_molecules)\n",
    "plt.xlabel(\"Error on inferred energy [eV]\")\n",
    "plt.ylabel(\"Histogram\")\n",
    "plt.show()"
   ]
  }
 ],
 "metadata": {
  "kernelspec": {
   "display_name": "Python 3",
   "language": "python",
   "name": "python3"
  },
  "language_info": {
   "codemirror_mode": {
    "name": "ipython",
    "version": 3
   },
   "file_extension": ".py",
   "mimetype": "text/x-python",
   "name": "python",
   "nbconvert_exporter": "python",
   "pygments_lexer": "ipython3",
   "version": "3.6.7"
  }
 },
 "nbformat": 4,
 "nbformat_minor": 5
}
