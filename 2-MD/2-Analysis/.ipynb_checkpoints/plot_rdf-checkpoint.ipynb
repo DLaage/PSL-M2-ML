{
 "cells": [
  {
   "cell_type": "code",
   "execution_count": null,
   "metadata": {},
   "outputs": [],
   "source": [
    "import numpy as np\n",
    "import matplotlib.pyplot as plt\n",
    "%matplotlib inline"
   ]
  },
  {
   "cell_type": "code",
   "execution_count": null,
   "metadata": {},
   "outputs": [],
   "source": [
    "rdf = []\n",
    "Nbin = 100\n",
    "Nsamp = 41\n",
    "with open(\"../1-Short_MD_run/h2o.rdf\", \"r\") as f:\n",
    "    for i in range(3):\n",
    "        f.readline()\n",
    "    for i in range(Nsamp):\n",
    "        f.readline()\n",
    "        for j in range(Nbin):\n",
    "            rdf.append(f.readline().split())\n",
    "rdf = np.array(rdf, dtype = \"float\").reshape(Nsamp, Nbin, 8)\n",
    "rdf_mean = rdf[:].mean(axis=0)"
   ]
  },
  {
   "cell_type": "code",
   "execution_count": null,
   "metadata": {},
   "outputs": [],
   "source": [
    "plt.figure(figsize=(8, 3.4))\n",
    "plt.xlim(0, 6)\n",
    "plt.ylim(0, 3.5)\n",
    "plt.xlabel(\"$r/\\mathrm{\\AA}$\", fontsize=14)\n",
    "plt.ylabel(\"$g_{\\mathrm{OO}}(r)$\", fontsize=14)\n",
    "plt.xticks(np.arange(0, 7, 1))\n",
    "plt.plot(rdf_mean[:, 1], rdf_mean[:, 2], color = \"purple\", label=\"liquid water\")\n",
    "\n",
    "plt.legend(fontsize=14)\n",
    "plt.plot([0, 6], [0.5, 0.5], linestyle = \"--\", color = \"black\")\n",
    "plt.plot([0, 6], [1.0, 1.0], linestyle = \"--\", color = \"black\")\n",
    "plt.plot([0, 6], [1.5, 1.5], linestyle = \"--\", color = \"black\")\n",
    "plt.plot([0, 6], [2.0, 2.0], linestyle = \"--\", color = \"black\")\n",
    "plt.plot([0, 6], [2.5, 2.5], linestyle = \"--\", color = \"black\")\n",
    "plt.plot([0, 6], [3.0, 3.0], linestyle = \"--\", color = \"black\")"
   ]
  },
  {
   "cell_type": "code",
   "execution_count": null,
   "metadata": {},
   "outputs": [],
   "source": [
    "plt.figure(figsize=(8, 3.4))\n",
    "plt.xlim(0, 6)\n",
    "plt.ylim(0, 2)\n",
    "plt.xlabel(\"$r/\\mathrm{\\AA}$\", fontsize=14)\n",
    "plt.ylabel(\"$g_{\\mathrm{OH}}(r)$\", fontsize=14)\n",
    "plt.xticks(np.arange(0, 7, 1))\n",
    "plt.yticks(np.arange(0, 2.5, 0.5))\n",
    "plt.plot(rdf_mean[:, 1], rdf_mean[:, 4], color = \"purple\", label=\"liquid water\")\n",
    "\n",
    "plt.legend(fontsize=14)\n",
    "plt.plot([0, 6], [0.5, 0.5], linestyle = \"--\", color = \"black\")\n",
    "plt.plot([0, 6], [1.0, 1.0], linestyle = \"--\", color = \"black\")\n",
    "plt.plot([0, 6], [1.5, 1.5], linestyle = \"--\", color = \"black\")\n",
    "plt.plot([0, 6], [2.0, 2.0], linestyle = \"--\", color = \"black\")\n",
    "plt.plot([0, 6], [2.5, 2.5], linestyle = \"--\", color = \"black\")"
   ]
  },
  {
   "cell_type": "code",
   "execution_count": null,
   "metadata": {},
   "outputs": [],
   "source": [
    "plt.figure(figsize=(8, 3.4))\n",
    "plt.xlim(0, 6)\n",
    "plt.ylim(0, 2)\n",
    "plt.xlabel(\"$r/\\mathrm{\\AA}$\", fontsize=14)\n",
    "plt.ylabel(\"$g_{\\mathrm{HH}}(r)$\", fontsize=14)\n",
    "plt.xticks(np.arange(0, 7, 1))\n",
    "plt.yticks(np.arange(0, 2.5, 0.5))\n",
    "plt.plot(rdf_mean[:, 1], rdf_mean[:, 6], color = \"purple\", label=\"liquid water\")\n",
    "\n",
    "plt.legend(fontsize=14)\n",
    "plt.plot([0, 6], [0.5, 0.5], linestyle = \"--\", color = \"black\")\n",
    "plt.plot([0, 6], [1.0, 1.0], linestyle = \"--\", color = \"black\")\n",
    "plt.plot([0, 6], [1.5, 1.5], linestyle = \"--\", color = \"black\")\n",
    "plt.plot([0, 6], [2.0, 2.0], linestyle = \"--\", color = \"black\")\n",
    "plt.plot([0, 6], [2.5, 2.5], linestyle = \"--\", color = \"black\")"
   ]
  },
  {
   "cell_type": "code",
   "execution_count": null,
   "metadata": {},
   "outputs": [],
   "source": []
  }
 ],
 "metadata": {
  "kernelspec": {
   "display_name": "Python 3",
   "language": "python",
   "name": "python3"
  },
  "language_info": {
   "codemirror_mode": {
    "name": "ipython",
    "version": 3
   },
   "file_extension": ".py",
   "mimetype": "text/x-python",
   "name": "python",
   "nbconvert_exporter": "python",
   "pygments_lexer": "ipython3",
   "version": "3.6.7"
  }
 },
 "nbformat": 4,
 "nbformat_minor": 5
}
