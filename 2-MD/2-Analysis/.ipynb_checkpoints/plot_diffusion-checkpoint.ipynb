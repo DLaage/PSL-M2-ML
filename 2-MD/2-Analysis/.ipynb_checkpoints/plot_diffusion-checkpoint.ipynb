{
 "cells": [
  {
   "cell_type": "code",
   "execution_count": null,
   "metadata": {},
   "outputs": [],
   "source": [
    "import numpy as np\n",
    "import matplotlib.pyplot as plt\n",
    "%matplotlib inline"
   ]
  },
  {
   "cell_type": "code",
   "execution_count": null,
   "metadata": {},
   "outputs": [],
   "source": [
    "diffusion = np.loadtxt(\"../1-Short_MD_run/diffusion.txt\")"
   ]
  },
  {
   "cell_type": "code",
   "execution_count": null,
   "metadata": {},
   "outputs": [],
   "source": [
    "Ntraj = diffusion.shape[0]"
   ]
  },
  {
   "cell_type": "code",
   "execution_count": null,
   "metadata": {},
   "outputs": [],
   "source": [
    "plt.figure(figsize=(12, 8))\n",
    "plt.title(\"Mean Squared Displacement\", fontsize=12)\n",
    "plt.xlabel(\"Time $t$ / ps\", fontsize=12)\n",
    "plt.ylabel(\"$\\langle\\\\frac{1}{N}\\\\sum_{i=1}^{N}(\\mathbf{r}_i(t)-\\mathbf{r}_i(0))^2\\\\rangle$ / $\\mathrm{\\AA}^2$\", fontsize=12)\n",
    "plt.xticks(fontsize=12)\n",
    "plt.yticks(fontsize=12)\n",
    "plt.plot(0.005*np.arange(Ntraj), diffusion[:, 1], label=\"O\")\n",
    "plt.plot(0.005*np.arange(Ntraj), diffusion[:, 2], label=\"H\")\n",
    "plt.legend(fontsize=12)"
   ]
  },
  {
   "cell_type": "code",
   "execution_count": null,
   "metadata": {},
   "outputs": [],
   "source": [
    "plt.figure(figsize=(12, 8))\n",
    "plt.title(\"Diffusion Coefficient\", fontsize=12)\n",
    "plt.xlabel(\"Time $t$ / ps\", fontsize=12)\n",
    "plt.ylabel(\"$D\\ / \\mathrm{\\AA}^2\\cdot\\mathrm{ps}^{-1}$\", fontsize=12)\n",
    "plt.xticks(fontsize=12)\n",
    "plt.yticks(fontsize=12)\n",
    "plt.plot(0.005*diffusion[1:, 0], diffusion[1:, 3], label=\"O\")\n",
    "plt.plot(0.005*diffusion[1:, 0], diffusion[1:, 4], label=\"H\")\n",
    "plt.legend(fontsize=12)"
   ]
  },
  {
   "cell_type": "code",
   "execution_count": null,
   "metadata": {},
   "outputs": [],
   "source": []
  }
 ],
 "metadata": {
  "kernelspec": {
   "display_name": "Python 3",
   "language": "python",
   "name": "python3"
  },
  "language_info": {
   "codemirror_mode": {
    "name": "ipython",
    "version": 3
   },
   "file_extension": ".py",
   "mimetype": "text/x-python",
   "name": "python",
   "nbconvert_exporter": "python",
   "pygments_lexer": "ipython3",
   "version": "3.6.7"
  }
 },
 "nbformat": 4,
 "nbformat_minor": 5
}
